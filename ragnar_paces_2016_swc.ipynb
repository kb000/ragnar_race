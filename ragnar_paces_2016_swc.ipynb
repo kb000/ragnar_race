{
 "cells": [
  {
   "cell_type": "markdown",
   "metadata": {},
   "source": [
    "# Strangers with Candy run Ragnar 2016\n",
    "\n",
    "In this notebook, I use pymc to sample from models of our ragnar runners' expected performance, in order to try to predict exchange times.\n",
    "Right now, point estimates are used to shape normal curves for the performance models.  PYMC would allow, however, for a more complex model, and even incorporation of observed data in order to influence our prior with a likelihood so that the posterior, our pace estimates, more accurately reflect our performance on race day.\n",
    "\n",
    "### Exchange timing estimates"
   ]
  },
  {
   "cell_type": "code",
   "execution_count": 131,
   "metadata": {
    "collapsed": true
   },
   "outputs": [],
   "source": [
    "import numpy as np\n",
    "import matplotlib\n",
    "import matplotlib.pyplot as plt\n",
    "%matplotlib inline\n",
    "\n",
    "import seaborn as sns\n",
    "sns.set_style(\"white\")\n",
    "\n",
    "import time\n",
    "import timeit\n",
    "\n",
    "from datetime import datetime, timedelta\n",
    "\n",
    "import scipy.stats \n",
    "import pandas as pd\n",
    "import pymc as pm\n",
    "\n",
    "import re\n",
    "import numpy as np\n",
    "\n",
    "import string"
   ]
  },
  {
   "cell_type": "code",
   "execution_count": 132,
   "metadata": {
    "collapsed": true
   },
   "outputs": [],
   "source": [
    "sns.set_context(\"notebook\", font_scale=1.25, rc={'figure.figsize':(14,8)})"
   ]
  },
  {
   "cell_type": "code",
   "execution_count": 133,
   "metadata": {
    "collapsed": false
   },
   "outputs": [],
   "source": [
    "init_paces = pd.DataFrame([\n",
    "    {'position':1, 'name':'David', 'pace':9.25},\n",
    "    {'position':2, 'name':'Anna', 'pace':9.75},\n",
    "    {'position':3, 'name':'Kevin', 'pace':8.83},\n",
    "    {'position':4, 'name':'Christine', 'pace':9.5},\n",
    "    {'position':5, 'name':'Daniel', 'pace':8.0},\n",
    "    {'position':6, 'name':'Jason', 'pace':9.75},\n",
    "    \n",
    "    {'position':7, 'name':'Valerie', 'pace':8.83},\n",
    "    {'position':8, 'name':'Patrick', 'pace':8.75},\n",
    "    {'position':9, 'name':'Mark', 'pace':10.83},\n",
    "    {'position':10, 'name':'Chris', 'pace':8.33},\n",
    "    {'position':11, 'name':'Casey', 'pace':9.75},\n",
    "    {'position':12, 'name':'Rebecca', 'pace':12.5}\n",
    "])\n",
    "init_paces.set_index('position', inplace=True)"
   ]
  },
  {
   "cell_type": "code",
   "execution_count": 134,
   "metadata": {
    "collapsed": false
   },
   "outputs": [
    {
     "name": "stdout",
     "output_type": "stream",
     "text": [
      "               name   pace\n",
      "position                  \n",
      "1             David   9.25\n",
      "2              Anna   9.75\n",
      "3             Kevin   8.83\n",
      "4         Christine   9.50\n",
      "5            Daniel   8.00\n",
      "6             Jason   9.75\n",
      "7           Valerie   8.83\n",
      "8           Patrick   8.75\n",
      "9              Mark  10.83\n",
      "10            Chris   8.33\n",
      "11            Casey   9.75\n",
      "12          Rebecca  12.50\n"
     ]
    }
   ],
   "source": [
    "print init_paces"
   ]
  },
  {
   "cell_type": "code",
   "execution_count": 135,
   "metadata": {
    "collapsed": false
   },
   "outputs": [
    {
     "data": {
      "text/html": [
       "<div>\n",
       "<table border=\"1\" class=\"dataframe\">\n",
       "  <thead>\n",
       "    <tr style=\"text-align: right;\">\n",
       "      <th></th>\n",
       "      <th>distance</th>\n",
       "      <th>difficulty</th>\n",
       "    </tr>\n",
       "    <tr>\n",
       "      <th>sequence</th>\n",
       "      <th></th>\n",
       "      <th></th>\n",
       "    </tr>\n",
       "  </thead>\n",
       "  <tbody>\n",
       "    <tr>\n",
       "      <th>1</th>\n",
       "      <td>6.70</td>\n",
       "      <td>Hard</td>\n",
       "    </tr>\n",
       "    <tr>\n",
       "      <th>2</th>\n",
       "      <td>3.58</td>\n",
       "      <td>Easy</td>\n",
       "    </tr>\n",
       "    <tr>\n",
       "      <th>3</th>\n",
       "      <td>8.62</td>\n",
       "      <td>Very Hard</td>\n",
       "    </tr>\n",
       "    <tr>\n",
       "      <th>4</th>\n",
       "      <td>3.22</td>\n",
       "      <td>Easy</td>\n",
       "    </tr>\n",
       "    <tr>\n",
       "      <th>5</th>\n",
       "      <td>7.30</td>\n",
       "      <td>Very Hard</td>\n",
       "    </tr>\n",
       "  </tbody>\n",
       "</table>\n",
       "</div>"
      ],
      "text/plain": [
       "          distance  difficulty\n",
       "sequence                      \n",
       "1             6.70        Hard\n",
       "2             3.58        Easy\n",
       "3             8.62   Very Hard\n",
       "4             3.22        Easy\n",
       "5             7.30   Very Hard"
      ]
     },
     "execution_count": 135,
     "metadata": {},
     "output_type": "execute_result"
    }
   ],
   "source": [
    "legs = pd.read_csv('ragnar-legs.csv')\n",
    "legs.set_index('sequence', inplace=True)\n",
    "legs.sort_index(inplace=True)\n",
    "legs.head()"
   ]
  },
  {
   "cell_type": "markdown",
   "metadata": {},
   "source": [
    "## Estimating a single exchange time\n",
    "Use pymc to sample from a normal random variable and then collect statistics on the result of a pace-to-time calculation using values from the sample trace."
   ]
  },
  {
   "cell_type": "code",
   "execution_count": 136,
   "metadata": {
    "collapsed": false
   },
   "outputs": [],
   "source": [
    "pace_var = .25\n",
    "pace_distr1 = pm.Normal(\"pace1\", mu=init_paces.loc[1,'pace'], tau=1/(pace_var*pace_var))"
   ]
  },
  {
   "cell_type": "code",
   "execution_count": 137,
   "metadata": {
    "collapsed": false
   },
   "outputs": [
    {
     "name": "stdout",
     "output_type": "stream",
     "text": [
      "\r",
      " [-----------------100%-----------------] 9000 of 9000 complete in 0.2 sec"
     ]
    }
   ],
   "source": [
    "pace1model = pm.Model([pace_distr1,])\n",
    "mc1 = pm.MCMC(pacemodel)\n",
    "mc1.sample(iter=9000, burn=2000, thin=5)"
   ]
  },
  {
   "cell_type": "code",
   "execution_count": 138,
   "metadata": {
    "collapsed": false
   },
   "outputs": [
    {
     "name": "stdout",
     "output_type": "stream",
     "text": [
      "pace1 Mean:9.7473 Std:0.2496\n"
     ]
    }
   ],
   "source": [
    "print \"pace1 Mean:%.04f Std:%.04f\" % (np.mean(mc1.trace('pace1')[:]), np.std(mc1.trace('pace1')[:]))"
   ]
  },
  {
   "cell_type": "code",
   "execution_count": 139,
   "metadata": {
    "collapsed": false
   },
   "outputs": [
    {
     "data": {
      "text/plain": [
       "<matplotlib.text.Text at 0x26c78a20>"
      ]
     },
     "execution_count": 139,
     "metadata": {},
     "output_type": "execute_result"
    },
    {
     "data": {
      "image/png": "[encoded data removed]",
      "text/plain": [
       "<matplotlib.figure.Figure at 0x262a4278>"
      ]
     },
     "metadata": {},
     "output_type": "display_data"
    }
   ],
   "source": [
    "plt.hist(mc1.trace('pace1')[:], bins=30)\n",
    "plt.title(\"Samples from Runner 1's pace\")"
   ]
  },
  {
   "cell_type": "code",
   "execution_count": 103,
   "metadata": {
    "collapsed": false
   },
   "outputs": [],
   "source": [
    "exch1 = legs.loc[1,'distance']* np.array(mc.trace('pace1')[:])"
   ]
  },
  {
   "cell_type": "code",
   "execution_count": 104,
   "metadata": {
    "collapsed": false
   },
   "outputs": [],
   "source": [
    "exch1_interval = np.mean(exch1) + np.array([-2,0,2]) * np.std(exch1)"
   ]
  },
  {
   "cell_type": "code",
   "execution_count": 105,
   "metadata": {
    "collapsed": true
   },
   "outputs": [],
   "source": [
    "start_time = datetime(2016,5,13,6,30,0)"
   ]
  },
  {
   "cell_type": "code",
   "execution_count": 106,
   "metadata": {
    "collapsed": false
   },
   "outputs": [
    {
     "data": {
      "text/plain": [
       "'13 May 2016 06:30 AM'"
      ]
     },
     "execution_count": 106,
     "metadata": {},
     "output_type": "execute_result"
    }
   ],
   "source": [
    "start_time.strftime(\"%d %B %Y %H:%M %p\")"
   ]
  },
  {
   "cell_type": "code",
   "execution_count": 107,
   "metadata": {
    "collapsed": false
   },
   "outputs": [],
   "source": [
    "exch1_times = start_time + np.array([timedelta(minutes=t) for t in exch1_interval])"
   ]
  },
  {
   "cell_type": "code",
   "execution_count": 110,
   "metadata": {
    "collapsed": false
   },
   "outputs": [
    {
     "data": {
      "text/plain": [
       "['13 May 2016 07:31 AM', '13 May 2016 07:35 AM', '13 May 2016 07:38 AM']"
      ]
     },
     "execution_count": 110,
     "metadata": {},
     "output_type": "execute_result"
    }
   ],
   "source": [
    "[t.strftime(\"%d %B %Y %H:%M %p\") for t in exch1_times]"
   ]
  },
  {
   "cell_type": "code",
   "execution_count": null,
   "metadata": {
    "collapsed": true
   },
   "outputs": [],
   "source": [
    "np.ar"
   ]
  },
  {
   "cell_type": "markdown",
   "metadata": {},
   "source": [
    "## Estimating all exchange times"
   ]
  },
  {
   "cell_type": "code",
   "execution_count": 113,
   "metadata": {
    "collapsed": false
   },
   "outputs": [],
   "source": [
    "pace_vars = np.zeros(len(init_paces)) + .25\n",
    "pace_coll = [pm.Normal(\"pace%d\" % (i+1,), mu=init_paces.loc[i+1,'pace'], tau=1/(pace_vars[i]*pace_vars[i])) for i in np.arange(len(init_paces))]\n",
    "pace_distrs = pm.Container(pace_coll)"
   ]
  },
  {
   "cell_type": "code",
   "execution_count": 114,
   "metadata": {
    "collapsed": false
   },
   "outputs": [
    {
     "data": {
      "text/plain": [
       "[<pymc.distributions.Normal 'pace1' at 0x0000000021815CC0>,\n",
       " <pymc.distributions.Normal 'pace2' at 0x00000000214A53C8>,\n",
       " <pymc.distributions.Normal 'pace3' at 0x0000000022D4D320>,\n",
       " <pymc.distributions.Normal 'pace4' at 0x0000000022EA5048>,\n",
       " <pymc.distributions.Normal 'pace5' at 0x0000000022EA5780>,\n",
       " <pymc.distributions.Normal 'pace6' at 0x0000000022EA5860>,\n",
       " <pymc.distributions.Normal 'pace7' at 0x0000000022EA5908>,\n",
       " <pymc.distributions.Normal 'pace8' at 0x0000000022EA59B0>,\n",
       " <pymc.distributions.Normal 'pace9' at 0x0000000022EA5A58>,\n",
       " <pymc.distributions.Normal 'pace10' at 0x0000000022EA5B00>,\n",
       " <pymc.distributions.Normal 'pace11' at 0x0000000022EA5BA8>,\n",
       " <pymc.distributions.Normal 'pace12' at 0x0000000021D8DEF0>]"
      ]
     },
     "execution_count": 114,
     "metadata": {},
     "output_type": "execute_result"
    }
   ],
   "source": []
  },
  {
   "cell_type": "code",
   "execution_count": 115,
   "metadata": {
    "collapsed": false
   },
   "outputs": [
    {
     "name": "stdout",
     "output_type": "stream",
     "text": [
      " [-----------------100%-----------------] 100000 of 100000 complete in 16.8 sec"
     ]
    }
   ],
   "source": [
    "pacesmodel = pm.Model(pace_distrs)\n",
    "mc = pm.MCMC(pacesmodel)\n",
    "mc.sample(iter=100000, burn=2000, thin=5)"
   ]
  },
  {
   "cell_type": "code",
   "execution_count": 144,
   "metadata": {
    "collapsed": true
   },
   "outputs": [],
   "source": [
    "start_time + np.array([timedelta(minutes=t) for t in exch1_interval])\n",
    "R = len(init_paces)\n",
    "durations = [legs.loc[i+1,'distance'] * mc.trace('pace%d' % ((i%R)+1))[:] for i in np.arange(36)]\n",
    "periods = np.cumsum(durations, axis=0)"
   ]
  },
  {
   "cell_type": "code",
   "execution_count": 181,
   "metadata": {
    "collapsed": false
   },
   "outputs": [
    {
     "data": {
      "text/plain": [
       "<matplotlib.text.Text at 0x2b3deba8>"
      ]
     },
     "execution_count": 181,
     "metadata": {},
     "output_type": "execute_result"
    },
    {
     "data": {
      "image/png": "[encoded data removed]",
      "text/plain": [
       "<matplotlib.figure.Figure at 0x2a602e48>"
      ]
     },
     "metadata": {},
     "output_type": "display_data"
    }
   ],
   "source": [
    "[plt.hist(periods[i]) for i in np.arange(R*3)]\n",
    "plt.xlabel(\"Minutes after race start\")\n",
    "plt.title(\"Exchange periods\")"
   ]
  },
  {
   "cell_type": "code",
   "execution_count": 151,
   "metadata": {
    "collapsed": false
   },
   "outputs": [],
   "source": [
    "intervals = np.mean(periods, axis=1) + (np.ones((36,3)) * np.array([-2,0,2])).T * np.std(periods, axis=1)"
   ]
  },
  {
   "cell_type": "code",
   "execution_count": 189,
   "metadata": {
    "collapsed": false
   },
   "outputs": [
    {
     "name": "stdout",
     "output_type": "stream",
     "text": [
      "Start is expected at 13 May 2016 06:30 AM\n",
      "Exchange 1 (David to Anna) is expected:\n",
      "         between 13 May 2016 07:28 AM and 13 May 2016 07:35 AM.\n",
      "Exchange 2 (Anna to Kevin) is expected:\n",
      "         between 13 May 2016 08:03 AM and 13 May 2016 08:10 AM.\n",
      "Exchange 3 (Kevin to Christine) is expected:\n",
      "         between 13 May 2016 09:17 AM and 13 May 2016 09:28 AM.\n",
      "Exchange 4 (Christine to Daniel) is expected:\n",
      "         between 13 May 2016 09:47 AM and 13 May 2016 09:59 AM.\n",
      "Exchange 5 (Daniel to Jason) is expected:\n",
      "         between 13 May 2016 10:44 AM and 13 May 2016 10:59 AM.\n",
      "Exchange 6 (Jason to Valerie) is expected:\n",
      "         between 13 May 2016 11:24 AM and 13 May 2016 11:39 AM.\n",
      "Exchange 7 (Valerie to Patrick) is expected:\n",
      "         between 13 May 2016 12:50 PM and 13 May 2016 13:08 PM.\n",
      "Exchange 8 (Patrick to Mark) is expected:\n",
      "         between 13 May 2016 13:32 PM and 13 May 2016 13:51 PM.\n",
      "Exchange 9 (Mark to Chris) is expected:\n",
      "         between 13 May 2016 14:24 PM and 13 May 2016 14:42 PM.\n",
      "Exchange 10 (Chris to Casey) is expected:\n",
      "         between 13 May 2016 15:50 PM and 13 May 2016 16:11 PM.\n",
      "Exchange 11 (Casey to Rebecca) is expected:\n",
      "         between 13 May 2016 16:37 PM and 13 May 2016 16:59 PM.\n",
      "Exchange 12 (Rebecca to David) is expected:\n",
      "         between 13 May 2016 17:37 PM and 13 May 2016 18:00 PM.\n",
      "Exchange 13 (David to Anna) is expected:\n",
      "         between 13 May 2016 18:24 PM and 13 May 2016 18:49 PM.\n",
      "Exchange 14 (Anna to Kevin) is expected:\n",
      "         between 13 May 2016 19:16 PM and 13 May 2016 19:42 PM.\n",
      "Exchange 15 (Kevin to Christine) is expected:\n",
      "         between 13 May 2016 19:52 PM and 13 May 2016 20:20 PM.\n",
      "Exchange 16 (Christine to Daniel) is expected:\n",
      "         between 13 May 2016 20:31 PM and 13 May 2016 20:59 PM.\n",
      "Exchange 17 (Daniel to Jason) is expected:\n",
      "         between 13 May 2016 21:14 PM and 13 May 2016 21:44 PM.\n",
      "Exchange 18 (Jason to Valerie) is expected:\n",
      "         between 13 May 2016 22:04 PM and 13 May 2016 22:36 PM.\n",
      "Exchange 19 (Valerie to Patrick) is expected:\n",
      "         between 13 May 2016 22:51 PM and 13 May 2016 23:25 PM.\n",
      "Exchange 20 (Patrick to Mark) is expected:\n",
      "         between 13 May 2016 23:39 PM and 14 May 2016 00:14 AM.\n",
      "Exchange 21 (Mark to Chris) is expected:\n",
      "         between 14 May 2016 00:40 AM and 14 May 2016 01:16 AM.\n",
      "Exchange 22 (Chris to Casey) is expected:\n",
      "         between 14 May 2016 01:10 AM and 14 May 2016 01:47 AM.\n",
      "Exchange 23 (Casey to Rebecca) is expected:\n",
      "         between 14 May 2016 01:33 AM and 14 May 2016 02:11 AM.\n",
      "Exchange 24 (Rebecca to David) is expected:\n",
      "         between 14 May 2016 02:13 AM and 14 May 2016 02:51 AM.\n",
      "Exchange 25 (David to Anna) is expected:\n",
      "         between 14 May 2016 02:42 AM and 14 May 2016 03:22 AM.\n",
      "Exchange 26 (Anna to Kevin) is expected:\n",
      "         between 14 May 2016 03:28 AM and 14 May 2016 04:09 AM.\n",
      "Exchange 27 (Kevin to Christine) is expected:\n",
      "         between 14 May 2016 04:50 AM and 14 May 2016 05:35 AM.\n",
      "Exchange 28 (Christine to Daniel) is expected:\n",
      "         between 14 May 2016 05:43 AM and 14 May 2016 06:29 AM.\n",
      "Exchange 29 (Daniel to Jason) is expected:\n",
      "         between 14 May 2016 06:19 AM and 14 May 2016 07:07 AM.\n",
      "Exchange 30 (Jason to Valerie) is expected:\n",
      "         between 14 May 2016 06:50 AM and 14 May 2016 07:39 AM.\n",
      "Exchange 31 (Valerie to Patrick) is expected:\n",
      "         between 14 May 2016 07:44 AM and 14 May 2016 08:35 AM.\n",
      "Exchange 32 (Patrick to Mark) is expected:\n",
      "         between 14 May 2016 08:04 AM and 14 May 2016 08:55 AM.\n",
      "Exchange 33 (Mark to Chris) is expected:\n",
      "         between 14 May 2016 08:39 AM and 14 May 2016 09:31 AM.\n",
      "Exchange 34 (Chris to Casey) is expected:\n",
      "         between 14 May 2016 09:36 AM and 14 May 2016 10:30 AM.\n",
      "Exchange 35 (Casey to Rebecca) is expected:\n",
      "         between 14 May 2016 10:20 AM and 14 May 2016 11:15 AM.\n",
      "Exchange 36 (finish) is expected:\n",
      "         between 14 May 2016 12:19 PM and 14 May 2016 13:16 PM.\n"
     ]
    }
   ],
   "source": [
    "start_time = datetime(2016,5,13,6,30,0)\n",
    "interval_times = start_time + np.vectorize(lambda t: timedelta(minutes=t))(intervals).T\n",
    "strf = \"%d %B %Y %H:%M %p\"\n",
    "print \"Start is expected at %s\" % (start_time.strftime(strf),)\n",
    "for i in np.arange(len(interval_times)):\n",
    "    int_start = interval_times[i,0].strftime(strf)\n",
    "    int_end = interval_times[i,2].strftime(strf)\n",
    "    if i < len(interval_times) - 1:\n",
    "        print \"Exchange %d (%s to %s) is expected:\" % (i+1, init_paces.loc[(i%R)+1]['name'],init_paces.loc[((i+1)%R)+1]['name'])\n",
    "    else: \n",
    "        print \"Exchange %d (finish) is expected:\" % (i+1,) \n",
    "    print \"         between %s and %s.\" % (int_start, int_end)"
   ]
  },
  {
   "cell_type": "code",
   "execution_count": null,
   "metadata": {
    "collapsed": true
   },
   "outputs": [],
   "source": []
  }
 ],
 "metadata": {
  "kernelspec": {
   "display_name": "Python 2",
   "language": "python",
   "name": "python2"
  },
  "language_info": {
   "codemirror_mode": {
    "name": "ipython",
    "version": 2
   },
   "file_extension": ".py",
   "mimetype": "text/x-python",
   "name": "python",
   "nbconvert_exporter": "python",
   "pygments_lexer": "ipython2",
   "version": "2.7.11"
  }
 },
 "nbformat": 4,
 "nbformat_minor": 0
}
